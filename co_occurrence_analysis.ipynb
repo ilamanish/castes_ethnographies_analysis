{
 "cells": [
  {
   "cell_type": "markdown",
   "metadata": {},
   "source": [
    "## Co-Occurrence Analysis\n",
    "\n",
    "The following code finds the most frequently occurring mentions of two different entity types within a sentence in the corpus."
   ]
  },
  {
   "cell_type": "markdown",
   "metadata": {},
   "source": [
    "### Loading the Corpus"
   ]
  },
  {
   "cell_type": "code",
   "execution_count": 1,
   "metadata": {},
   "outputs": [],
   "source": [
    "# Importing the required modules\n",
    "import pickle\n",
    "\n",
    "# Loading the list of doc entities\n",
    "with open(\"./data/descriptions_docs.pkl\", \"rb\") as descriptions_docs:\n",
    "    docs = pickle.load(descriptions_docs)"
   ]
  },
  {
   "cell_type": "markdown",
   "metadata": {},
   "source": [
    "### Function to find and save co-occurrences"
   ]
  },
  {
   "cell_type": "code",
   "execution_count": 3,
   "metadata": {},
   "outputs": [],
   "source": [
    "# Importing required libraries\n",
    "from collections import Counter, defaultdict\n",
    "\n",
    "# Function to create a table of co-occurrences, corresponding sentences, and frequencies\n",
    "def co_occurrence_finder(docs, list1, list2):\n",
    "    # Counter to store co-occurrence frequencies\n",
    "    counter_dict = Counter()\n",
    "\n",
    "    # Dictionary to store sentences for each co-occurrence pair\n",
    "    sentences_dict = defaultdict(list)\n",
    "\n",
    "    for doc in docs:\n",
    "        for sent in doc.sents:\n",
    "\n",
    "            # Extracting tokens (words) from the sentence\n",
    "            tokens = [token.text for token in sent]\n",
    "\n",
    "            # Check for co-occurrence of words from list1 and list2\n",
    "            for word1 in list1:\n",
    "                for word2 in list2:\n",
    "                    if word1 in tokens and word2 in tokens:\n",
    "                        # Increment the co-occurrence counter\n",
    "                        counter_dict[(word1, word2)] += 1\n",
    "                        # Add sentence to sentence table\n",
    "                        sentences_dict[(word1, word2)].append(sent.text)\n",
    "            \n",
    "    return counter_dict, sentences_dict"
   ]
  },
  {
   "cell_type": "code",
   "execution_count": 30,
   "metadata": {},
   "outputs": [],
   "source": [
    "# Importing the required libraries\n",
    "import csv\n",
    "import pandas as pd\n",
    "\n",
    "# Function to create a CSV file from counter_dict\n",
    "def save_counter_csv(filename, headings, co_occurrences_list):\n",
    "    with open(filename, 'w', newline='', encoding='utf-8') as csvfile:\n",
    "        csv_writer = csv.writer(csvfile)\n",
    "        csv_writer.writerow(headings) # Header\n",
    "        for (word1, word2), frequency in co_occurrences_list.items():\n",
    "            csv_writer.writerow([word1, word2, frequency])\n",
    "    print(f\"Co-occurrences saved to {filename}\")\n",
    "\n",
    "# Function to create a CSV file from sentence_dict\n",
    "def save_sentences_csv(filename, headings, co_occurrences_list):\n",
    "    with open(filename, 'w', newline='', encoding='utf-8') as csvfile:\n",
    "        csv_writer = csv.writer(csvfile)\n",
    "        csv_writer.writerow(headings) # Header\n",
    "        for (word1, word2), sentences in co_occurrences_list.items(): # Data\n",
    "            for sentence in sentences:\n",
    "                csv_writer.writerow([word1, word2, sentence])\n",
    "\n",
    "    print(f\"Co-occurrences saved to {filename}\")"
   ]
  },
  {
   "cell_type": "code",
   "execution_count": 31,
   "metadata": {},
   "outputs": [],
   "source": [
    "# Importing the required libraries\n",
    "import pandas as pd\n",
    "\n",
    "# Function to organise the counter CSV file\n",
    "def sort_counter_csv(filename, word1):\n",
    "    df = pd.read_csv(filename) # Reading the CSV file into a DataFrame\n",
    "    df['Frequency'] = pd.to_numeric(df['Frequency']) # Converting the frequency column to numeric values from string values\n",
    "    df = df.sort_values(by=[word1, 'Frequency'], ascending=[True, False]) # Grouping by first category and arranging in descending order of frequency\n",
    "    df.to_csv(filename, index=False)\n",
    "\n",
    "    print(f\"{filename} sorted.\")\n",
    "\n",
    "# Function to organise the sentences CSV file\n",
    "def sort_sentences_csv(filename, word1):\n",
    "    df = pd.read_csv(filename) # Reading the CSV file into a DataFrame\n",
    "    df = df.sort_values(by=[word1], ascending=[True]) # Grouping by first category\n",
    "    df.to_csv(filename, index=False)\n",
    "    print(f\"{filename} sorted.\")"
   ]
  },
  {
   "cell_type": "markdown",
   "metadata": {},
   "source": [
    "### Social Relations - Material Entities"
   ]
  },
  {
   "cell_type": "code",
   "execution_count": null,
   "metadata": {},
   "outputs": [],
   "source": [
    "# Lists of material entities and social relations (manually created)\n",
    "material_entities = ['bullet', 'smoke', 'dumbbell', 'lawn', 'gun', 'throne', 'fibre', 'bed', 'pānchagavyam', 'bodice', 'kamba', 'matchlock', 'juice', 'hedge', 'soot', 'chank', 'bedi', 'beef', 'dūli', 'gate', 'shadow', 'gurigi', 'upparige', 'mound', 'wall', 'ceiling', 'fence', 'pile', 'sirdachi', 'bali', 'axe', 'pūkāre', 'switch', 'clod', 'podi', 'pudding', 'dew', 'banner', 'club', 'garb', 'cymbal', 'stave', 'nishāni', 'track', 'mask', 'hoof', 'trouser', 'doll', 'slush', 'paddock', 'gallow', 'whip', 'rein', 'reflection', 'yoke', 'bridle', 'stool', 'board', 'stake', 'prize', 'weapon', 'feather', 'fan', 'towel', 'spurs', 'football', 'pillar', 'manuscript', 'patent', 'ship', 'cargo', 'vest', 'share', 'oven', 'shield', 'wax', 'boat', 'drawers', 'pestle', 'kitti', 'coral', 'bowl', 'bracelet', 'collyrium', 'bottu', 'dhornam', 'bran', 'chaplet', 'dagger', 'shoe', 'canopy', 'fenugreek', 'curds', 'condiment', 'tamarind', 'pepper', 'māla', 'biruthu', 'ladle', 'powder', 'braid', 'utensil', 'lathe', 'railway', 'robe', 'bow', 'air', 'cross', 'dandam', 'tong', 'stamp', 'sālagrāma', 'pipe', 'ganja', 'hemp', 'opium', 'beard', 'nāmam', 'vōli', 'gundam', 'pool', 'barrier', 'ināms', 'rent', 'tent', 'peg', 'trident', 'straw', 'pith', 'crown', 'expense', 'timber', 'saw', 'table', 'rung', 'ladder', 'kistvaen', 'site', 'bundle', 'truffle', 'spade', 'fund', 'border', 'trimming', 'frock', 'gown', 'blouse', 'jacket', 'velvet', 'tweed', 'skirt', 'cream', 'satin', 'chair', 'mattress', 'pillow', 'mortar', 'patch', 'prong', 'heap', 'bar', 'puddle', 'necklace', 'gunny', 'file', 'rear', 'catalogue', 'phonograph', 'trapping', 'bit', 'wire', 'roll', 'lobe', 'hatchet', 'flute', 'sickle', 'petticoat', 'chick pea', 'dhupati', 'crowbar', 'tobacco', 'horn', 'streamer', 'chintz', 'orange', 'storey', 'pole', 'screen', 'cavity', 'ārathi', 'bill-hook', 'sugar', 'jaggery', 'costume', 'hook', 'bread', 'wine', 'clothing', 'spear', 'edge', 'crevice', 'coin', 'whey', 'cake', 'wick', 'castor', 'hole', 'plait', 'ware', 'handkerchief', 'cord', 'flint', 'socket', 'bough', 'ember', 'hearth', 'rain', 'tray', 'strip', 'nīsal', 'dhubati', 'kachche', 'tenai', 'sāmai', 'tovarai', 'fragment', 'sheaf', 'elemukkuththi', 'deposit', 'furrow', 'urine', 'camphor', 'tāli', 'badge', 'grain', 'pack', 'comb', 'loom', 'bag', 'food', 'platter', 'liquor', 'stimulant', 'cup', 'metal', 'spirit', 'thread', 'jewellery', 'umbrella', 'gift', 'money', 'fanam', 'panam', 'earth', 'water', 'fire', 'pot', 'ground', 'corpse', 'dung', 'cloth', 'jewel', 'plank', 'string', 'garland', 'shell', 'instrument', 'feast', 'planet', 'asterism', 'moon', 'asterisms', 'rajju', 'idol', 'letter', 'patrika', 'pariyam', 'clay', 'paste', 'oil', 'rice', 'lamp', 'wind', 'wealth', 'stone', 'roller', 'pan', 'milk', 'post', 'pāl', 'stick', 'ring', 'cloth', 'plate', 'gold', 'silver', 'seat', 'ball', 'ashtamangalam', 'vessel', 'mirror', 'ankusam', 'flapper', 'flag', 'drum', 'star', 'bier', 'dead', 'palanquin', 'vegetable', 'cultivation', 'turban', 'fee', 'torch', 'object', 'car', 'sword', 'attire', 'bayonet', 'bangle', 'cart', 'salt', 'flesh', 'picture', 'rope', 'bristle', 'hair', 'screw', 'diaphragm', 'plough', 'crop', 'brass', 'arrow', 'vehicle', 'stock', 'anna', 'mutton', 'pork', 'alcohol', 'fish', 'net', 'pearl', 'bead', 'meal', 'floor', 'wood', 'property', 'medicine', 'text', 'butter', 'dish', 'silk', 'egg', 'pyre', 'cinder', 'drink', 'payment', 'fine', 'tax', 'sadābāth', 'dresser', 'knapsack', 'drug', 'knife', 'carbon', 'razor', 'box', 'pill', 'land', 'mortgage', 'marakkāls', 'paddy', 'glass', 'tweezer', 'soap', 'edict', 'ornament', 'dress', 'fuel', 'jewelry', 'poison', 'nectar', 'meat', 'door', 'gong', 'uppu', 'alm', 'ivory', 'blanket', 'vase', 'purāna', 'poem', 'linga', 'lingam', 'lock', 'key', 'basket', 'image', 'saffron', 'turmeric', 'mark', 'cotton', 'pumpkin', 'ghee', 'honey', 'disc', 'slab', 'sack', 'mud', 'nut', 'chaudike', 'rod', 'book', 'bell', 'copper', 'lead', 'tin', 'iron', 'load', 'steel', 'ashti', 'bone', 'toddy', 'pāni', 'āsu', 'indigo', 'fabric', 'tea', 'coffee', 'wage', 'newspaper', 'debt', 'barley', 'coat', 'pay', 'income', 'rāgi', 'piece', 'coffin', 'rupee', 'curry', 'stuff', 'pie', 'fruit', 'carcase', 'cromlech', 'incense', 'taxis', 'cromlechs', 'pit', 'platform', 'mandaikallu', 'art', 'musk', 'roof', 'store', 'boulder', 'brick', 'mandhe', 'litter', 'manure', 'rock', 'soil', 'surface', 'emblem', 'herd', 'wilderness', 'wreath', 'thorn', 'wheat', 'beer', 'ganji', 'onion', 'garlic', 'potato', 'cash', 'capital', 'flour', 'harvest', 'dowry', 'faggot', 'revenue', 'hoe', 'implement', 'ratchai', 'cot', 'heirloom', 'sandal', 'cane', 'ash', 'ashes', 'produce', 'cap', 'device', 'necklet', 'armlet', 'tattoo', 'pigment', 'impression', 'needle', 'yam', 'charcoal', 'cicatrix', 'keloid', 'wool', 'mustard', 'gudu', 'dairy', 'garment', 'wound', 'bolt', 'honē', 'brim', 'fluid', 'mat', 'pulp', 'photograph', 'product', 'tank', 'bund', 'embankment', 'pulse', 'perfume', 'lingas', 'lime']\n",
    "social_relations = ['prey', 'sportsman', 'organiser', 'wrestler', 'highwayman', 'heir', 'author', 'ejamān', 'herdsman', 'constable', 'taliāri', 'panchayatdar', 'defaulter', 'agriculturist', 'police', 'housebreaker', 'historian', 'thief', 'marksman', 'dhiyani', 'sweeper', 'grandmother', 'convict', 'nomad', 'soothsayer', 'bachelor', 'budu', 'accuser', 'giant', 'leveller', 'landowner', 'youngster', 'outsider', 'manager', 'mukhtesar', 'forger', 'scoundrel', 'makkala', 'aliya', 'housewife', 'slayer', 'warrior', 'laird', 'squire', 'artisan', 'prince', 'treasurer', 'cartman', 'lender', 'sowcar','maker', 'cane-splitter', 'orphan', 'custodian', 'invader', 'butcher', 'consort', 'swāmis', 'coolie', 'baker', 'butler', 'inspector', 'runner', 'hawker', 'grandson', 'governor', 'monk', 'nun', 'abstainer', 'gōpi', 'disciple', 'teacher', 'follower', 'trader', 'zamindar', 'overlord', 'expert', 'zemindar', 'officer', 'complainant', 'architect', 'blacksmith', 'conqueror', 'hillman', 'steward', 'dwarf', 'scapegoat', 'performer', 'bearer', 'tribesman', 'grandfather', 'babe', 'grandparent', 'informant', 'guardian', 'widower', 'cousin', 'winner', 'abetter', 'abductor', 'correspondent', 'suitor', 'virgin', 'partner', 'adult', 'infant', 'neighbour', 'betrothed', 'thrower', 'patriarch', 'celebrant', 'traveller', 'devotee', 'baby', 'novice', 'weaver', 'father', 'minister', 'barber', 'attendant', 'son', 'mendicant', 'munsiff', 'headman', 'bride', 'sage', 'servant', 'priest', 'goddess', 'maid', 'singer', 'reader', 'reciter', 'slave', 'vassal', 'patron', 'client', 'patient', 'cultivator', 'descendant', 'immigrant', 'brother', 'householder', 'landholder', 'king', 'wife', 'husband', 'master', 'child', 'ancestor', 'ruler', 'offspring', 'mother', 'sister', 'bridegroom', 'astrologer', 'enemy', 'purōhit', 'friend', 'bridesmaid', 'seller', 'banker', 'usurer', 'washerman', 'ryot', 'guru', 'preceptor', 'parent', 'messenger', 'washerwoman', 'uncle', 'cowherd', 'clergyman', 'scholar', 'forefather', 'soldier', 'commander', 'daughter', 'widow', 'driver', 'worker', 'eater', 'labourer', 'artist', 'albino', 'leper', 'fisherman', 'merchant', 'kempuava', 'saint', 'watchman', 'hunter', 'peon', 'mason', 'kavalgār', 'elder', 'writer', 'resident', 'surgeon', 'bystander', 'midwife', 'giver', 'pūjāri', 'spectator', 'pauper', 'chief', 'pilgrim', 'employer', 'shaver', 'cutter', 'physician', 'operator', 'accoucheuse', 'matron', 'customer', 'chatter-box', 'negotiator', 'potter', 'villager', 'official', 'carpenter', 'doctor', 'engineer', 'nobleman', 'sorcerer', 'chieftain', 'guest', 'niece', 'nephew', 'spouse', 'karta', 'mourner', 'beggar', 'bricklayer', 'fief', 'farmer', 'aunt', 'tradesman', 'founder', 'precursor', 'owner', 'victim', 'poet', 'progenitor', 'keeper', 'husbandmen', 'agnate', 'prostitute', 'dancer', 'tutor', 'dyer', 'clerk', 'artizan', 'toddy-drawer', 'rishi', 'dāsis', 'schoolmaster', 'contractor', 'painter', 'sawyer', 'tailor', 'gardener', 'guard', 'scavenger', 'pupil', 'judge', 'planter', 'idler', 'lawyer', 'adversary', 'witness', 'colonist', 'inhabitant', 'landlord', 'native', 'jumper', 'accountant', 'leader', 'stranger', 'cooly', 'colleague', 'president', 'delinquent', 'student', 'goldsmith', 'convert', 'onlooker', 'palol', 'necromancer', 'inmate', 'diviner', 'celibate', 'assistant', 'successor', 'donor', 'candidate']\n",
    "\n",
    "# Generating co-occurrence frequencies and corresponding sentences\n",
    "social_material_counter, social_material_sentences = co_occurrence_finder(docs, material_entities, social_relations)"
   ]
  },
  {
   "cell_type": "code",
   "execution_count": 33,
   "metadata": {},
   "outputs": [
    {
     "name": "stdout",
     "output_type": "stream",
     "text": [
      "Co-occurrences saved to ./data/social_material_co_occurrences.csv\n",
      "Co-occurrences saved to ./data/social_material_sentences.csv\n",
      "./data/social_material_co_occurrences.csv sorted.\n",
      "./data/social_material_sentences.csv sorted.\n"
     ]
    }
   ],
   "source": [
    "# Saving generated data\n",
    "save_counter_csv('./data/social_material_co_occurrences.csv', ['Material Entity', 'Social Relation', 'Frequency'], social_material_counter)\n",
    "save_sentences_csv('./data/social_material_sentences.csv', ['Material Entity', 'Social Relation', 'Sentence'], social_material_sentences)\n",
    "\n",
    "# Sorting the contents of the CSV file\n",
    "sort_counter_csv('./data/social_material_co_occurrences.csv', 'Material Entity')\n",
    "sort_sentences_csv('./data/social_material_sentences.csv', 'Material Entity')"
   ]
  }
 ],
 "metadata": {
  "kernelspec": {
   "display_name": "Python 3 (ipykernel)",
   "language": "python",
   "name": "python3"
  },
  "language_info": {
   "codemirror_mode": {
    "name": "ipython",
    "version": 3
   },
   "file_extension": ".py",
   "mimetype": "text/x-python",
   "name": "python",
   "nbconvert_exporter": "python",
   "pygments_lexer": "ipython3",
   "version": "3.10.9"
  }
 },
 "nbformat": 4,
 "nbformat_minor": 2
}
