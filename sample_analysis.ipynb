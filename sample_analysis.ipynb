{
 "cells": [
  {
   "cell_type": "markdown",
   "metadata": {},
   "source": [
    "## Sample Analysis"
   ]
  },
  {
   "cell_type": "markdown",
   "metadata": {},
   "source": [
    "The following code loads the text to be analysed."
   ]
  },
  {
   "cell_type": "code",
   "execution_count": 2,
   "metadata": {
    "tags": []
   },
   "outputs": [],
   "source": [
    "# Import required libraries\n",
    "import pickle\n",
    "\n",
    "# Loading the pickled list of docs\n",
    "with open(\"./data/docs.pkl\", \"rb\") as descriptions_docs:\n",
    "    docs = pickle.load(descriptions_docs)"
   ]
  },
  {
   "cell_type": "markdown",
   "metadata": {},
   "source": [
    "### Step-1: Finding and Graphing Co-Occurrences\n",
    "\n",
    "The following code takes a primary word as an input and loads the top ten co-occurring nouns in the corpus as output."
   ]
  },
  {
   "cell_type": "code",
   "execution_count": null,
   "metadata": {},
   "outputs": [],
   "source": [
    "# Import required libraries\n",
    "import networkx as nx\n",
    "from collections import Counter\n",
    "import matplotlib.pyplot as plt\n",
    "import spacy\n",
    "import numpy as np\n",
    "\n",
    "# Function to get a list of the top 10 words corresponding to a specific part of speech that co-occur most frequently with a given word\n",
    "def find_in_para(docs, co_occurrences, primary_word):\n",
    "    final_list = [] # List to hold co-occurrences\n",
    "    final_frequencies = {} # Dict to hold co-occurrences and their frequencies\n",
    "    final_dict = {} # Dict to hold top 10 co-occurrences and their frequencies\n",
    "    nlp = spacy.load('en_core_web_sm')\n",
    "\n",
    "    for doc in docs:\n",
    "        for paragraph in doc.text.split('\\n\\n'):\n",
    "            paragraph_doc = nlp(paragraph)  # Convert paragraph string to SpaCy Doc\n",
    "            word_found = False\n",
    "            co_occurrences_in_paragraph = []\n",
    "            for token in paragraph_doc:\n",
    "                # Check for occurrence of primary word\n",
    "                if token.text.lower() == primary_word:\n",
    "                    word_found = True\n",
    "                # Generate list of co-occurrences\n",
    "                if token.pos_ == co_occurrences and token.text != primary_word:\n",
    "                    co_occurrences_in_paragraph.append(token.text)\n",
    "            if word_found and co_occurrences_in_paragraph:\n",
    "                final_list.extend(co_occurrences_in_paragraph)\n",
    "\n",
    "    # Calculate frequencies of co-occurrences\n",
    "    final_frequencies = Counter(final_list)\n",
    "    # # Get the frequencies as a list for the boxplot\n",
    "    # frequencies = list(final_frequencies.values())\n",
    "\n",
    "    # # Create a boxplot\n",
    "    # plt.boxplot(frequencies)\n",
    "    # plt.title('Frequency Distribution of Co-occurrences')\n",
    "    # plt.show()\n",
    "\n",
    "    # # Calculate IQR and identify outliers\n",
    "    # q1 = np.percentile(frequencies, 25)\n",
    "    # q3 = np.percentile(frequencies, 75)\n",
    "    # iqr = q3 - q1\n",
    "    # lower_bound = q1 - 1.5 * iqr\n",
    "    # upper_bound = q3 + 1.5 * iqr\n",
    "\n",
    "    # # Create a new dictionary for outliers\n",
    "    # for word, freq in final_frequencies.items():\n",
    "    #     if freq < lower_bound or freq > upper_bound:\n",
    "    #         final_dict[word] = freq\n",
    "\n",
    "    # Create a final dict of the top ten co-occurrences\n",
    "    final_dict = dict(final_frequencies.most_common(10))\n",
    "    display(final_dict)\n",
    "    return final_list, final_dict\n",
    "\n",
    "dairy_co_occurrences, dairy_top_ten = find_in_para(docs, 'NOUN', 'dairy')\n",
    "cheri_co_occurrences, cheri_top_ten = find_in_para(docs, 'NOUN', 'chēri')\n",
    "menstrual_co_occurrences, menstrual_top_ten = find_in_para(docs, 'NOUN', 'menstrual')\n",
    "pollution_co_occurrences, pollution_top_ten = find_in_para(docs, 'NOUN', 'pollution')"
   ]
  },
  {
   "cell_type": "markdown",
   "metadata": {},
   "source": [
    "The following code saves the above generated lists of co_occurrences as json files."
   ]
  },
  {
   "cell_type": "code",
   "execution_count": 12,
   "metadata": {},
   "outputs": [],
   "source": [
    "import json\n",
    "\n",
    "# Function to save the lists generated above as json files for future use\n",
    "def write_to_file(file_path, data_list):\n",
    "    with open(file_path, 'w') as file:\n",
    "        json.dump(data_list, file)\n",
    "\n",
    "write_to_file('./data/co_occurrences_lists/dairy_co_occurrences.json', dairy_co_occurrences)\n",
    "write_to_file('./data/co_occurrences_lists/cheri_co_occurrences.json', cheri_co_occurrences)\n",
    "write_to_file('./data/co_occurrences_lists/menstrual_co_occurrences.json', menstrual_co_occurrences)\n",
    "write_to_file('./data/co_occurrences_lists/pollution_co_occurrences.json', pollution_co_occurrences)"
   ]
  },
  {
   "cell_type": "markdown",
   "metadata": {},
   "source": [
    "The following code creates category lists of the above generated top ten co-occurrences in order to colour-code the co-occurrence graphs."
   ]
  },
  {
   "cell_type": "code",
   "execution_count": 13,
   "metadata": {},
   "outputs": [],
   "source": [
    "material_entities = ['buffaloes', 'milk', 'fire', 'rice', 'water', 'cloth']\n",
    "social_relations = ['palol']\n",
    "spaces = ['village', 'huts', 'temple', 'mand', 'ti', 'grāmam', 'temples', 'house', 'hut']"
   ]
  },
  {
   "cell_type": "code",
   "execution_count": 43,
   "metadata": {},
   "outputs": [],
   "source": [
    "import networkx as nx\n",
    "import matplotlib.pyplot as plt\n",
    "import matplotlib.patches as mpatches\n",
    "\n",
    "def create_graph(primary_word, co_occurrences_list):\n",
    "\n",
    "    # Define the color mapping function\n",
    "    def get_node_color(node):\n",
    "        if node in material_entities:\n",
    "            return '#e0ecf4'\n",
    "        elif node in social_relations:\n",
    "            return '#fde0dd'\n",
    "        elif node in spaces:\n",
    "            return '#bcbddc'\n",
    "        else:\n",
    "            return '#d3d3d3'\n",
    "\n",
    "    # Create a new graph\n",
    "    G = nx.Graph()\n",
    "\n",
    "    # Add the primary word to the graph\n",
    "    G.add_node(primary_word)\n",
    "\n",
    "    # Add the dictionary words to the graph and connect them to the primary word\n",
    "    for word, frequency in co_occurrences_list.items():\n",
    "        G.add_node(word)\n",
    "        G.add_edge(primary_word, word, weight=frequency)\n",
    "\n",
    "    # Set positions for the nodes based on frequency\n",
    "    pos = nx.spring_layout(G, k=0.5)\n",
    "\n",
    "    # Calculate maximum frequency for scaling node size\n",
    "    max_frequency = max(co_occurrences_list.values())\n",
    "\n",
    "    # Set the figure size\n",
    "    plt.figure(figsize=(12, 10))\n",
    "\n",
    "    # Get the node colors based on the lists\n",
    "    node_colors = ['#0a0000' if node == primary_word else get_node_color(node) for node in G.nodes()]\n",
    "\n",
    "    # Draw the primary node with a specific color\n",
    "    nx.draw_networkx_nodes(G, pos, nodelist=[primary_word], node_color='#0a0000', node_size=5000)\n",
    "\n",
    "    # Draw the rest of the nodes and edges\n",
    "    nx.draw(G, pos, with_labels=False, node_size=[5000 * (co_occurrences_list.get(node, 1) / max_frequency) for node in G.nodes()], node_color=node_colors, font_size=10)\n",
    "        \n",
    "    # Draw the node labels\n",
    "    nx.draw_networkx_labels(G, pos, labels={node: f\"{node}\\n({co_occurrences_list.get(node, '')})\" if node != primary_word else node for node in G.nodes()})\n",
    "\n",
    "    # Draw the label for the primary word node separately with white font color\n",
    "    nx.draw_networkx_labels(G, pos, labels={primary_word: primary_word}, font_color='white')\n",
    "    \n",
    "    # Add a plot title\n",
    "    plt.title(f\"Top 10 Nouns Co-Occurring with '{primary_word}'\")\n",
    "\n",
    "    # Create legend handles and labels\n",
    "    legend_handles = [\n",
    "        mpatches.Patch(color='#e0ecf4', label='Material Entities'),\n",
    "        mpatches.Patch(color='#fde0dd', label='Social Relations'),\n",
    "        mpatches.Patch(color='#bcbddc', label='Spaces'),\n",
    "        mpatches.Patch(color='#d3d3d3', label='Other')\n",
    "    ]\n",
    "\n",
    "    # Add the legend to the plot\n",
    "    plt.legend(handles=legend_handles)\n",
    "\n",
    "    # Show the plot\n",
    "    plt.show()"
   ]
  },
  {
   "cell_type": "code",
   "execution_count": null,
   "metadata": {},
   "outputs": [],
   "source": [
    "# create_graph('dairy', dairy_top_ten)\n",
    "# create_graph('chēri', cheri_top_ten)\n",
    "# create_graph('menstrual', menstrual_top_ten)\n",
    "# create_graph('pollution', pollution_top_ten)"
   ]
  },
  {
   "cell_type": "markdown",
   "metadata": {},
   "source": [
    "### Step-2: Extracting the Relevant Paragraphs\n",
    "\n",
    "The following code loads paragraphs within the corpus which contain both (all) of the specified words."
   ]
  },
  {
   "cell_type": "code",
   "execution_count": null,
   "metadata": {},
   "outputs": [],
   "source": [
    "# Import required libraries\n",
    "import en_core_web_sm\n",
    "\n",
    "# Function to search for co-occurrences of two or more words within the same paragraph\n",
    "def find_co_occurrences(docs, words):\n",
    "    nlp = en_core_web_sm.load()\n",
    "    co_occurring_paragraphs = []\n",
    "    for doc in docs:\n",
    "        for paragraph in doc.text.split('\\n\\n'):\n",
    "            paragraph_doc = nlp(paragraph)\n",
    "            words_found = {word: False for word in words}\n",
    "\n",
    "            for token in paragraph_doc:\n",
    "                if token.text.lower() in words:\n",
    "                    words_found[token.text.lower()] = True\n",
    "\n",
    "            if all(words_found.values()):\n",
    "                co_occurring_paragraphs.append(paragraph)\n",
    "\n",
    "    return co_occurring_paragraphs\n",
    "\n",
    "# relevant_paragraphs = find_co_occurrences(docs,['pollution', \"rice\"])\n",
    "# display(relevant_paragraphs)"
   ]
  }
 ],
 "metadata": {
  "kernelspec": {
   "display_name": "Python 3 (ipykernel)",
   "language": "python",
   "name": "python3"
  },
  "language_info": {
   "codemirror_mode": {
    "name": "ipython",
    "version": 3
   },
   "file_extension": ".py",
   "mimetype": "text/x-python",
   "name": "python",
   "nbconvert_exporter": "python",
   "pygments_lexer": "ipython3",
   "version": "3.10.9"
  }
 },
 "nbformat": 4,
 "nbformat_minor": 4
}
