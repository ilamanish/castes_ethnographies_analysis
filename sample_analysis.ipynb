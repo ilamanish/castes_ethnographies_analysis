{
 "cells": [
  {
   "cell_type": "markdown",
   "metadata": {},
   "source": [
    "## Sample Analysis"
   ]
  },
  {
   "cell_type": "markdown",
   "metadata": {},
   "source": [
    "The following code loads the text to be analysed."
   ]
  },
  {
   "cell_type": "code",
   "execution_count": null,
   "metadata": {
    "tags": []
   },
   "outputs": [],
   "source": [
    "# Import required libraries\n",
    "import pickle\n",
    "\n",
    "# Loading the pickled list of docs\n",
    "with open(\"./data/docs.pkl\", \"rb\") as descriptions_docs:\n",
    "    docs = pickle.load(descriptions_docs)"
   ]
  },
  {
   "cell_type": "markdown",
   "metadata": {},
   "source": [
    "### Step-1: Finding Co-Occurrences\n",
    "\n",
    "The following code takes a primary word as an input and loads the top ten co-occurring nouns in the corpus as output."
   ]
  },
  {
   "cell_type": "code",
   "execution_count": null,
   "metadata": {},
   "outputs": [],
   "source": [
    "# Import required libraries\n",
    "import networkx as nx\n",
    "from collections import Counter\n",
    "import matplotlib.pyplot as plt\n",
    "import spacy\n",
    "\n",
    "# Function to search for co-occurrencecs of a particular part of speech and a particular word within the same paragraph\n",
    "def find_in_para(docs, co_occurrences, word):\n",
    "    final_list = []\n",
    "    nlp = spacy.load('en_core_web_sm')\n",
    "\n",
    "    for doc in docs:\n",
    "        for paragraph in doc.text.split('\\n\\n'):\n",
    "            paragraph_doc = nlp(paragraph)  # Convert paragraph string to SpaCy Doc\n",
    "            word_found = False\n",
    "            co_occurrences_in_paragraph = []\n",
    "            for token in paragraph_doc:\n",
    "                if token.text.lower() == word:\n",
    "                    word_found = True\n",
    "                if token.pos_ == co_occurrences:\n",
    "                    co_occurrences_in_paragraph.append(token.text)\n",
    "            if word_found and co_occurrences_in_paragraph:\n",
    "                final_list.extend(co_occurrences_in_paragraph)\n",
    "    return final_list\n",
    "\n",
    "# List the nouns that co-occur with a specific word\n",
    "nouns = find_in_para(docs, 'NOUN', 'paraiya')\n",
    "\n",
    "# Count the frequency with which each of the nouns co-occur\n",
    "noun_frequencies = Counter(nouns)\n",
    "\n",
    "# Select the 10 most frequent nouns\n",
    "top_10_nouns = dict(noun_frequencies.most_common(10))\n",
    "display(top_10_nouns)"
   ]
  },
  {
   "cell_type": "markdown",
   "metadata": {},
   "source": [
    "### Step-2: Extracting the Relevant Paragraphs\n",
    "\n",
    "The following code loads paragraphs within the corpus which contain both (all) of the specified words."
   ]
  },
  {
   "cell_type": "code",
   "execution_count": null,
   "metadata": {},
   "outputs": [],
   "source": [
    "# Import required libraries\n",
    "import en_core_web_sm\n",
    "\n",
    "# Function to search for co-occurrences of two or more words within the same paragraph\n",
    "def find_co_occurrences(docs, words):\n",
    "    nlp = en_core_web_sm.load()\n",
    "    co_occurring_paragraphs = []\n",
    "    for doc in docs:\n",
    "        for paragraph in doc.text.split('\\n\\n'):\n",
    "            paragraph_doc = nlp(paragraph)\n",
    "            words_found = {word: False for word in words}\n",
    "\n",
    "            for token in paragraph_doc:\n",
    "                if token.text.lower() in words:\n",
    "                    words_found[token.text.lower()] = True\n",
    "\n",
    "            if all(words_found.values()):\n",
    "                co_occurring_paragraphs.append(paragraph)\n",
    "\n",
    "    return co_occurring_paragraphs\n",
    "\n",
    "relevant_paragraphs = find_co_occurrences(docs,['menstrual', \"hut\"])\n",
    "display(relevant_paragraphs)"
   ]
  }
 ],
 "metadata": {
  "kernelspec": {
   "display_name": "Python 3 (ipykernel)",
   "language": "python",
   "name": "python3"
  },
  "language_info": {
   "codemirror_mode": {
    "name": "ipython",
    "version": 3
   },
   "file_extension": ".py",
   "mimetype": "text/x-python",
   "name": "python",
   "nbconvert_exporter": "python",
   "pygments_lexer": "ipython3",
   "version": "3.10.9"
  }
 },
 "nbformat": 4,
 "nbformat_minor": 4
}
