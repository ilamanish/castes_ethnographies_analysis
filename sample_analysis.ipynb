{
 "cells": [
  {
   "cell_type": "markdown",
   "metadata": {},
   "source": [
    "## Sample Analysis"
   ]
  },
  {
   "cell_type": "markdown",
   "metadata": {},
   "source": [
    "The following code loads the text to be analysed."
   ]
  },
  {
   "cell_type": "code",
   "execution_count": 4,
   "metadata": {
    "tags": []
   },
   "outputs": [],
   "source": [
    "# Import required libraries\n",
    "import pickle\n",
    "\n",
    "# Loading the pickled list of docs\n",
    "with open(\"./data/docs.pkl\", \"rb\") as descriptions_docs:\n",
    "    docs = pickle.load(descriptions_docs)"
   ]
  },
  {
   "cell_type": "markdown",
   "metadata": {},
   "source": [
    "### Step-1: Finding and Graphing Co-Occurrences\n",
    "\n",
    "The following code takes a primary word as an input and loads the top ten co-occurring nouns in the corpus as output."
   ]
  },
  {
   "cell_type": "code",
   "execution_count": 2,
   "metadata": {},
   "outputs": [],
   "source": [
    "# Import required libraries\n",
    "import networkx as nx\n",
    "from collections import Counter\n",
    "import matplotlib.pyplot as plt\n",
    "import spacy\n",
    "\n",
    "# Function to get a list of the top 10 words corresponding to a specific part of speech that co-occur most frequently with a given word\n",
    "def find_in_para(docs, co_occurrences, primary_word):\n",
    "    final_list = [] # List to hold co-occurrences\n",
    "    final_frequencies = {} # Dict to hold co-occurrences and their frequencies\n",
    "    final_dict = {} # Dict to hold top 10 co-occurrences and their frequencies\n",
    "    nlp = spacy.load('en_core_web_sm')\n",
    "\n",
    "    for doc in docs:\n",
    "        for paragraph in doc.text.split('\\n\\n'):\n",
    "            paragraph_doc = nlp(paragraph)  # Convert paragraph string to SpaCy Doc\n",
    "            word_found = False\n",
    "            co_occurrences_in_paragraph = []\n",
    "            for token in paragraph_doc:\n",
    "                # Check for occurrence of primary word\n",
    "                if token.text.lower() == primary_word:\n",
    "                    word_found = True\n",
    "                # Generate list of co-occurrences\n",
    "                if token.pos_ == co_occurrences and token.text != primary_word:\n",
    "                    co_occurrences_in_paragraph.append(token.text)\n",
    "            if word_found and co_occurrences_in_paragraph:\n",
    "                final_list.extend(co_occurrences_in_paragraph)\n",
    "    final_frequencies = Counter(final_list)\n",
    "    final_dict = dict(final_frequencies.most_common(10))\n",
    "    display(final_dict)\n",
    "    return final_dict\n",
    "\n",
    "# dairy_co_occurrences = find_in_para(docs, 'NOUN', 'dairy')\n",
    "# cheri_co_occurrences = find_in_para(docs, 'NOUN', 'chēri')\n",
    "# menstrual_co_occurrences = find_in_para(docs, 'NOUN', 'menstrual')\n",
    "# pollution_co_occurrences = find_in_para(docs, 'NOUN', 'pollution')"
   ]
  },
  {
   "cell_type": "code",
   "execution_count": 7,
   "metadata": {},
   "outputs": [],
   "source": [
    "import networkx as nx\n",
    "import matplotlib.pyplot as plt\n",
    "\n",
    "def create_graph(primary_word, co_occurrences_list, primary_colour, secondary_colour):\n",
    "\n",
    "    # Create a new graph\n",
    "    G = nx.Graph()\n",
    "\n",
    "    # Add the primary word to the graph\n",
    "    G.add_node(primary_word)\n",
    "\n",
    "    # Add the dictionary words to the graph and connect them to the primary word\n",
    "    for word, frequency in co_occurrences_list.items():\n",
    "        G.add_node(word)\n",
    "        G.add_edge(primary_word, word, weight=frequency)\n",
    "\n",
    "    # Set positions for the nodes based on frequency\n",
    "    pos = nx.spring_layout(G, k=0.5)\n",
    "\n",
    "    # Calculate maximum frequency for scaling node size\n",
    "    max_frequency = max(co_occurrences_list.values())\n",
    "\n",
    "    # Set the figure size\n",
    "    plt.figure(figsize=(10, 8))\n",
    "\n",
    "    # Draw nodes and edges\n",
    "    nx.draw(G, pos, with_labels=False, node_size=[5000 * (co_occurrences_list.get(node, 1) / max_frequency) for node in G.nodes()], font_size=10, node_color=secondary_colour)\n",
    "    nx.draw_networkx_labels(G, pos, {node: f\"{node}\\n({co_occurrences_list.get(node, '')})\" if node != primary_word else node for node in G.nodes()}, font_size=10)\n",
    "\n",
    "    # Change the color and size of the central node\n",
    "    nx.draw_networkx_nodes(G, pos, nodelist=[primary_word], node_color=primary_colour, node_size=3000)\n",
    "\n",
    "    # Show the plot\n",
    "    plt.title(f\"Top 10 Nouns Co-Occurring with '{primary_word}'\")\n",
    "    plt.show()"
   ]
  },
  {
   "cell_type": "code",
   "execution_count": null,
   "metadata": {},
   "outputs": [],
   "source": [
    "# create_graph('dairy', dairy_co_occurrences, '#a6bddb', '#ece2f0')\n",
    "# create_graph('chēri', cheri_co_occurrences, '#a8ddb5', '#e0f3db')\n",
    "# create_graph('menstrual', menstrual_co_occurrences, '#9ebcda', '#e0ecf4')\n",
    "# create_graph('pollution', pollution_co_occurrences, '#fa9fb5', '#fde0dd')"
   ]
  },
  {
   "cell_type": "markdown",
   "metadata": {},
   "source": [
    "### Step-2: Extracting the Relevant Paragraphs\n",
    "\n",
    "The following code loads paragraphs within the corpus which contain both (all) of the specified words."
   ]
  },
  {
   "cell_type": "code",
   "execution_count": null,
   "metadata": {},
   "outputs": [],
   "source": [
    "# Import required libraries\n",
    "import en_core_web_sm\n",
    "\n",
    "# Function to search for co-occurrences of two or more words within the same paragraph\n",
    "def find_co_occurrences(docs, words):\n",
    "    nlp = en_core_web_sm.load()\n",
    "    co_occurring_paragraphs = []\n",
    "    for doc in docs:\n",
    "        for paragraph in doc.text.split('\\n\\n'):\n",
    "            paragraph_doc = nlp(paragraph)\n",
    "            words_found = {word: False for word in words}\n",
    "\n",
    "            for token in paragraph_doc:\n",
    "                if token.text.lower() in words:\n",
    "                    words_found[token.text.lower()] = True\n",
    "\n",
    "            if all(words_found.values()):\n",
    "                co_occurring_paragraphs.append(paragraph)\n",
    "\n",
    "    return co_occurring_paragraphs\n",
    "\n",
    "# relevant_paragraphs = find_co_occurrences(docs,['pollution', \"rice\"])\n",
    "# display(relevant_paragraphs)"
   ]
  }
 ],
 "metadata": {
  "kernelspec": {
   "display_name": "Python 3 (ipykernel)",
   "language": "python",
   "name": "python3"
  },
  "language_info": {
   "codemirror_mode": {
    "name": "ipython",
    "version": 3
   },
   "file_extension": ".py",
   "mimetype": "text/x-python",
   "name": "python",
   "nbconvert_exporter": "python",
   "pygments_lexer": "ipython3",
   "version": "3.10.9"
  }
 },
 "nbformat": 4,
 "nbformat_minor": 4
}
