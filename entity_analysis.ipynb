{
 "cells": [
  {
   "cell_type": "markdown",
   "metadata": {},
   "source": [
    "## Extracting and Exploring Entities in the Text\n",
    "\n",
    "This code attempts to get a list of the various entities in the text in order to develop a basic ontology to help classify and study them."
   ]
  },
  {
   "cell_type": "markdown",
   "metadata": {},
   "source": [
    "### Loading the docs"
   ]
  },
  {
   "cell_type": "code",
   "execution_count": 1,
   "metadata": {},
   "outputs": [],
   "source": [
    "import pickle\n",
    "\n",
    "## loading the list of doc entities\n",
    "with open(\"/Users/ilamanish/Documents/dh_ism/scripts/data/descriptions_docs.pkl\", \"rb\") as descriptions_docs:\n",
    "    docs = pickle.load(descriptions_docs)"
   ]
  },
  {
   "cell_type": "markdown",
   "metadata": {},
   "source": [
    "### Extracting nouns and noun phrases"
   ]
  },
  {
   "cell_type": "code",
   "execution_count": 17,
   "metadata": {},
   "outputs": [
    {
     "name": "stdout",
     "output_type": "stream",
     "text": [
      "10073\n"
     ]
    }
   ],
   "source": [
    "nouns_list = []  ## creating a list to store the nouns\n",
    "\n",
    "## creating a list of common english stopwords\n",
    "with open('./data/english_stopwords', 'r') as file:\n",
    "        stopwords_set = [line.strip() for line in file]\n",
    "\n",
    "## creating a list of common punctutation marks\n",
    "punctuation = [\n",
    "    \"!\", \"\\\"\", \"#\", \"$\", \"%\", \"&\", \"'\", \"(\", \")\", \"*\", \"+\", \",\", \"-\", \".\", \"/\", \":\",\n",
    "    \";\", \"<\", \"=\", \">\", \"?\", \"@\", \"[\", \"\\\\\", \"]\", \"^\", \"_\", \"`\", \"{\", \"|\", \"}\", \"~\"\n",
    "]\n",
    "\n",
    "## extracting nouns and noun phrases from the text\n",
    "for doc in docs:\n",
    "    for token in doc:\n",
    "        if token.pos_ == 'NOUN':\n",
    "            if token.lemma_ in stopwords_set or token.lemma_ in punctuation:\n",
    "                next\n",
    "            else:\n",
    "                if token.lemma_ in nouns_list:\n",
    "                    next\n",
    "                else:\n",
    "                    nouns_list.append(token.lemma_)\n",
    "    # for chunk in doc.noun_chunks:\n",
    "    #     if chunk.text in stopwords_set or chunk.text in punctuation:\n",
    "    #             next\n",
    "    #     else:\n",
    "    #         if chunk.text in nouns_list:\n",
    "    #             next\n",
    "    #         else:\n",
    "    #             nouns_list.append(chunk.text)\n",
    "\n",
    "print(len(nouns_list))"
   ]
  },
  {
   "cell_type": "code",
   "execution_count": 18,
   "metadata": {},
   "outputs": [
    {
     "data": {
      "text/plain": [
       "['florikin',\n",
       " 'bandicoot',\n",
       " 'sac',\n",
       " 'choir',\n",
       " 'jemmy',\n",
       " 'loot',\n",
       " 'accomplice',\n",
       " 'marketing',\n",
       " 'howl',\n",
       " 'satamānam']"
      ]
     },
     "metadata": {},
     "output_type": "display_data"
    }
   ],
   "source": [
    "display(nouns_list[10063:10073])"
   ]
  }
 ],
 "metadata": {
  "kernelspec": {
   "display_name": "Python 3 (ipykernel)",
   "language": "python",
   "name": "python3"
  },
  "language_info": {
   "codemirror_mode": {
    "name": "ipython",
    "version": 3
   },
   "file_extension": ".py",
   "mimetype": "text/x-python",
   "name": "python",
   "nbconvert_exporter": "python",
   "pygments_lexer": "ipython3",
   "version": "3.10.9"
  },
  "orig_nbformat": 4
 },
 "nbformat": 4,
 "nbformat_minor": 2
}
