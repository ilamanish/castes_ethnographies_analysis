{
 "cells": [
  {
   "cell_type": "markdown",
   "metadata": {},
   "source": [
    "## Extracting and Exploring Entities in the Text\n",
    "\n",
    "This code attempts to get a list of the various entities in the text in order to develop a basic ontology to help classify and study them."
   ]
  },
  {
   "cell_type": "markdown",
   "metadata": {},
   "source": [
    "### Loading the docs"
   ]
  },
  {
   "cell_type": "code",
   "execution_count": 1,
   "metadata": {},
   "outputs": [],
   "source": [
    "import pickle\n",
    "\n",
    "## loading the list of doc entities\n",
    "with open(\"/Users/ilamanish/Documents/dh_ism/scripts/data/descriptions_docs.pkl\", \"rb\") as descriptions_docs:\n",
    "    docs = pickle.load(descriptions_docs)"
   ]
  },
  {
   "cell_type": "markdown",
   "metadata": {},
   "source": [
    "### Extracting nouns and noun phrases"
   ]
  },
  {
   "cell_type": "code",
   "execution_count": 13,
   "metadata": {},
   "outputs": [],
   "source": [
    "import re\n",
    "\n",
    "nouns_list = []  ## creating a list to store the nouns\n",
    "\n",
    "## creating a list of common english stopwords\n",
    "with open('./data/english_stopwords', 'r') as file:\n",
    "        stopwords_set = [line.strip() for line in file]\n",
    "\n",
    "# ## creating a list of common punctutation marks\n",
    "# punctuation = [\n",
    "#     \"!\", \"\\\"\", \"#\", \"$\", \"%\", \"&\", \"'\", \"(\", \")\", \"*\", \"+\", \",\", \"-\", \".\", \"/\", \":\",\n",
    "#     \";\", \"<\", \"=\", \">\", \"?\", \"@\", \"[\", \"\\\\\", \"]\", \"^\", \"_\", \"`\", \"{\", \"|\", \"}\", \"~\"\n",
    "# ]\n",
    "\n",
    "## creating a function to check for the presence of numerical digits in the string\n",
    "def contains_number(s):\n",
    "    return bool(re.search(r'\\d', s))\n",
    "\n",
    "## creating a function to check for the presence of punctuation in the string\n",
    "def contains_punctuation(s):\n",
    "    pattern = r'[!\"#$%&\\'()*+,\\-.\\/:;<=>?@[\\\\\\]^_`{|}~]'\n",
    "    return bool(re.search(pattern, s))\n",
    "\n",
    "## extracting nouns and noun phrases from the text\n",
    "for doc in docs:\n",
    "    for token in doc:\n",
    "        if token.pos_ == 'NOUN':\n",
    "            if token.lemma_ in stopwords_set:\n",
    "                next\n",
    "            else:\n",
    "                if contains_number(token.lemma_) is False and contains_punctuation(token.lemma_) is False:\n",
    "                    if token.lemma_ in nouns_list:\n",
    "                        next\n",
    "                    else:\n",
    "                        nouns_list.append(token.lemma_)\n",
    "    # for chunk in doc.noun_chunks:\n",
    "    #     if chunk.text in stopwords_set:\n",
    "    #             next\n",
    "    #     else:\n",
    "    #         if contains_number(chunk.text) is False and contains_punctuation(chunk.text) is False:\n",
    "    #             if chunk.text in nouns_list:\n",
    "    #                 next\n",
    "    #             else:\n",
    "    #                 nouns_list.append(chunk.text)\n",
    "\n",
    "# print((nouns_list))\n",
    "\n",
    "# Create a list of rows where each row contains a word and an empty value\n",
    "nouns_data = [(noun, '') for noun in nouns_list]\n",
    "\n",
    "## creating a csv file of the extracted nouns\n",
    "import csv\n",
    "\n",
    "with open(\"./data/nouns.csv\", \"w\", newline=\"\") as csv_file:\n",
    "    writer = csv.writer(csv_file)\n",
    "    writer.writerows(nouns_data)"
   ]
  }
 ],
 "metadata": {
  "kernelspec": {
   "display_name": "Python 3 (ipykernel)",
   "language": "python",
   "name": "python3"
  },
  "language_info": {
   "codemirror_mode": {
    "name": "ipython",
    "version": 3
   },
   "file_extension": ".py",
   "mimetype": "text/x-python",
   "name": "python",
   "nbconvert_exporter": "python",
   "pygments_lexer": "ipython3",
   "version": "3.10.9"
  },
  "orig_nbformat": 4
 },
 "nbformat": 4,
 "nbformat_minor": 2
}
